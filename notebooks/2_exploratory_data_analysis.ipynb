{
    "cells": [
     {
      "cell_type": "markdown",
      "metadata": {},
      "source": [
       "# Customer Churn Prediction: Exploratory Data Analysis\n",
       "\n",
       "This notebook performs exploratory data analysis on our preprocessed customer dataset. We'll visualize various aspects of the data to gain insights into customer behavior and potential predictors of churn."
      ]
     },
     {
      "cell_type": "code",
      "execution_count": null,
      "metadata": {},
      "outputs": [],
      "source": [
       "# Import necessary libraries\n",
       "import pandas as pd\n",
       "import numpy as np\n",
       "import matplotlib.pyplot as plt\n",
       "import seaborn as sns\n",
       "\n",
       "# Set style for better-looking plots\n",
       "plt.style.use('seaborn')\n",
       "sns.set_palette(\"deep\")\n",
       "\n",
       "# Load the preprocessed data\n",
       "df = pd.read_csv('../data/processed/processed_customer_data.csv')\n",
       "\n",
       "print(df.head())\n",
       "print(df.info())"
      ]
     },
     {
      "cell_type": "markdown",
      "metadata": {},
      "source": [
       "## 1. Distribution of Target Variable (Churn)"
      ]
     },
     {
      "cell_type": "code",
      "execution_count": null,
      "metadata": {},
      "outputs": [],
      "source": [
       "plt.figure(figsize=(10, 6))\n",
       "sns.countplot(x='Churn', data=df)\n",
       "plt.title('Distribution of Churn')\n",
       "plt.show()\n",
       "\n",
       "churn_rate = df['Churn'].value_counts(normalize=True)\n",
       "print(f\"Churn Rate: {churn_rate['Yes']:.2%}\")"
      ]
     },
     {
      "cell_type": "markdown",
      "metadata": {},
      "source": [
       "## 2. Age Distribution"
      ]
     },
     {
      "cell_type": "code",
      "execution_count": null,
      "metadata": {},
      "outputs": [],
      "source": [
       "plt.figure(figsize=(12, 6))\n",
       "sns.histplot(data=df, x='Age', hue='Churn', multiple='stack', bins=30)\n",
       "plt.title('Age Distribution by Churn Status')\n",
       "plt.show()"
      ]
     },
     {
      "cell_type": "markdown",
      "metadata": {},
      "source": [
       "## 3. Tenure Analysis"
      ]
     },
     {
      "cell_type": "code",
      "execution_count": null,
      "metadata": {},
      "outputs": [],
      "source": [
       "plt.figure(figsize=(12, 6))\n",
       "sns.boxplot(x='Churn', y='Tenure', data=df)\n",
       "plt.title('Customer Tenure by Churn Status')\n",
       "plt.show()"
      ]
     },
     {
      "cell_type": "markdown",
      "metadata": {},
      "source": [
       "## 4. Total Purchases vs Churn"
      ]
     },
     {
      "cell_type": "code",
      "execution_count": null,
      "metadata": {},
      "outputs": [],
      "source": [
       "plt.figure(figsize=(12, 6))\n",
       "sns.boxplot(x='Churn', y='TotalPurchases', data=df)\n",
       "plt.title('Total Purchases by Churn Status')\n",
       "plt.show()"
      ]
     },
     {
      "cell_type": "markdown",
      "metadata": {},
      "source": [
       "## 5. Login Frequency vs Churn"
      ]
     },
     {
      "cell_type": "code",
      "execution_count": null,
      "metadata": {},
      "outputs": [],
      "source": [
       "plt.figure(figsize=(12, 6))\n",
       "sns.countplot(x='LoginFrequency', hue='Churn', data=df)\n",
       "plt.title('Login Frequency by Churn Status')\n",
       "plt.show()"
      ]
     },
     {
      "cell_type": "markdown",
      "metadata": {},
      "source": [
       "## 6. Correlation Heatmap"
      ]
     },
     {
      "cell_type": "code",
      "execution_count": null,
      "metadata": {},
      "outputs": [],
      "source": [
       "plt.figure(figsize=(16, 12))\n",
       "correlation_matrix = df.corr()\n",
       "sns.heatmap(correlation_matrix, annot=True, cmap='coolwarm', linewidths=0.5)\n",
       "plt.title('Correlation Heatmap')\n",
       "plt.show()"
      ]
     },
     {
      "cell_type": "markdown",
      "metadata": {},
      "source": [
       "## 7. Support Interactions vs Churn"
      ]
     },
     {
      "cell_type": "code",
      "execution_count": null,
      "metadata": {},
      "outputs": [],
      "source": [
       "plt.figure(figsize=(12, 6))\n",
       "sns.boxplot(x='Churn', y='SupportInteractions', data=df)\n",
       "plt.title('Support Interactions by Churn Status')\n",
       "plt.show()"
      ]
     },
     {
      "cell_type": "markdown",
      "metadata": {},
      "source": [
       "## 8. Loyalty Score Analysis"
      ]
     },
     {
      "cell_type": "code",
      "execution_count": null,
      "metadata": {},
      "outputs": [],
      "source": [
       "plt.figure(figsize=(12, 6))\n",
       "sns.boxplot(x='Churn', y='LoyaltyScore', data=df)\n",
       "plt.title('Loyalty Score by Churn Status')\n",
       "plt.show()"
      ]
     },
     {
      "cell_type": "markdown",
      "metadata": {},
      "source": [
       "## 9. Summary of EDA Findings\n",
       "\n",
       "1. Churn Rate: [Fill in after running the notebook]\n",
       "2. Age Distribution: [Observations about age and churn]\n",
       "3. Tenure: [Relationship between tenure and churn]\n",
       "4. Total Purchases: [How total purchases relate to churn]\n",
       "5. Login Frequency: [Impact of login frequency on churn]\n",
       "6. Correlations: [Key correlations observed]\n",
       "7. Support Interactions: [Relationship between support interactions and churn]\n",
       "8. Loyalty Score: [How loyalty score relates to churn]\n",
       "\n",
       "These insights will guide our feature selection and model building process in the next notebook."
      ]
     }
    ],
    "metadata": {
     "kernelspec": {
      "display_name": "Python 3",
      "language": "python",
      "name": "python3"
     },
     "language_info": {
      "codemirror_mode": {
       "name": "ipython",
       "version": 3
      },
      "file_extension": ".py",
      "mimetype": "text/x-python",
      "name": "python",
      "nbconvert_exporter": "python",
      "pygments_lexer": "ipython3",
      "version": "3.8.5"
     }
    },
    "nbformat": 4,
    "nbformat_minor": 4
   }
