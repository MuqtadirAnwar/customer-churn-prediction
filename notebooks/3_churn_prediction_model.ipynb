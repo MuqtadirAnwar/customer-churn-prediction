{
    "cells": [
        {
            "cell_type": "markdown",
            "id": "9da243ea",
            "metadata": {},
            "source": [
                "# Customer Churn Prediction\n",
                "---\n",
                "In this notebook, we will build and evaluate a machine learning model to predict customer churn. We'll use a Random Forest classifier and explore hyperparameter tuning to optimize its performance."
            ]
        },
        {
            "cell_type": "markdown",
            "id": "f3a31132",
            "metadata": {},
            "source": [
                "## 1. Import Libraries"
            ]
        },
        {
            "cell_type": "code",
            "execution_count": null,
            "id": "38e27fc0",
            "metadata": {},
            "outputs": [],
            "source": [
                "# Import necessary libraries\n",
                "import pandas as pd\n",
                "from sklearn.model_selection import train_test_split\n",
                "from sklearn.preprocessing import StandardScaler\n",
                "from sklearn.ensemble import RandomForestClassifier\n",
                "from sklearn.metrics import classification_report, confusion_matrix\n",
                "from sklearn.model_selection import GridSearchCV"
            ]
        },
        {
            "cell_type": "markdown",
            "id": "05a875e0",
            "metadata": {},
            "source": [
                "## 2. Load Data"
            ]
        },
        {
            "cell_type": "code",
            "execution_count": null,
            "id": "6c9e5479",
            "metadata": {},
            "outputs": [],
            "source": [
                "# Load your dataset (replace 'your_dataset.csv' with your actual file)\n",
                "df = pd.read_csv('../data/processed/processed_customer_data.csv')"
            ]
        },
        {
            "cell_type": "markdown",
            "id": "8b797cb0",
            "metadata": {},
            "source": [
                "## 3. Data Preprocessing"
            ]
        },
        {
            "cell_type": "code",
            "execution_count": null,
            "id": "578843fd",
            "metadata": {},
            "outputs": [],
            "source": [
                "# Data Preprocessing\n",
                "# Assuming 'CustomerID', 'SubscriptionStart', 'SubscriptionEnd', 'LastPurchaseDate', and 'AgeGroup' are not needed for modeling\n",
                "X = df.drop(['CustomerID', 'Churn', 'SubscriptionStart', 'SubscriptionEnd', 'LastPurchaseDate', 'AgeGroup'], axis=1)\n",
                "y = df['Churn']  # Target variable"
            ]
        },
        {
            "cell_type": "code",
            "execution_count": null,
            "id": "8565d859",
            "metadata": {},
            "outputs": [],
            "source": [
                "# Split data into training and testing sets\n",
                "X_train, X_test, y_train, y_test = train_test_split(X, y, test_size=0.2, random_state=42)"
            ]
        },
        {
            "cell_type": "code",
            "execution_count": null,
            "id": "a6e7572f",
            "metadata": {},
            "outputs": [],
            "source": [
                "# Standardize features\n",
                "scaler = StandardScaler()\n",
                "X_train_scaled = scaler.fit_transform(X_train)\n",
                "X_test_scaled = scaler.transform(X_test)"
            ]
        },
        {
            "cell_type": "markdown",
            "id": "68316f6b",
            "metadata": {},
            "source": [
                "## 4. Model Building & Evaluation"
            ]
        },
        {
            "cell_type": "code",
            "execution_count": null,
            "id": "26b8769a",
            "metadata": {},
            "outputs": [],
            "source": [
                "# Model Building - Random Forest\n",
                "rf_model = RandomForestClassifier(random_state=42)\n",
                "rf_model.fit(X_train_scaled, y_train)\n",
                "\n",
                "# Predictions\n",
                "y_pred = rf_model.predict(X_test_scaled)\n",
                "\n",
                "# Model Evaluation\n",
                "print(\"Classification Report:\\n\", classification_report(y_test, y_pred))\n",
                "print(\"\\nConfusion Matrix:\\n\", confusion_matrix(y_test, y_pred))"
            ]
        },
        {
            "cell_type": "markdown",
            "id": "db15e6db",
            "metadata": {},
            "source": [
                "## 5. Feature Importance"
            ]
        },
        {
            "cell_type": "code",
            "execution_count": null,
            "id": "a26125a3",
            "metadata": {},
            "outputs": [],
            "source": [
                "# Feature Importance\n",
                "feature_importance = pd.DataFrame({'feature': X.columns, 'importance': rf_model.feature_importances_})\n",
                "feature_importance = feature_importance.sort_values('importance', ascending=False)\n",
                "print(\"\\nTop 10 Feature Importance:\\n\", feature_importance.head(10))"
            ]
        },
        {
            "cell_type": "markdown",
            "id": "da1589c2",
            "metadata": {},
            "source": [
                "## 6. Hyperparameter Tuning"
            ]
        },
        {
            "cell_type": "code",
            "execution_count": null,
            "id": "92f9ebc6",
            "metadata": {},
            "outputs": [],
            "source": [
                "# Hyperparameter Tuning using GridSearchCV\n",
                "param_grid = {\n",
                "    'n_estimators': [100, 200, 300],\n",
                "    'max_depth': [5, 10, None],\n",
                "    'min_samples_split': [2, 5, 10],\n",
                "    'min_samples_leaf': [1, 2, 4]\n",
                "}\n",
                "\n",
                "grid_search = GridSearchCV(estimator=rf_model, param_grid=param_grid, cv=3, n_jobs=-1, verbose=2)\n",
                "grid_search.fit(X_train_scaled, y_train)\n",
                "\n",
                "print(\"\\nBest Parameters:\", grid_search.best_params_)\n",
                "print(\"Best Cross-Validation Score:\", grid_search.best_score_)"
            ]
        },
        {
            "cell_type": "markdown",
            "id": "5ccef138",
            "metadata": {},
            "source": [
                "## 7. Evaluate Best Model"
            ]
        },
        {
            "cell_type": "code",
            "execution_count": null,
            "metadata": {},
            "outputs": [],
            "source": [
                "# Evaluate the best model\n",
                "best_model = grid_search.best_estimator_\n",
                "y_pred_best = best_model.predict(X_test_scaled)\n",
                "print(\"\\nClassification Report for Best Model:\\n\", classification_report(y_test, y_pred_best))"
            ]
        }
    ],
    "metadata": {
        "kernelspec": {
            "display_name": "Python 3 (ipykernel)",
            "language": "python",
            "name": "python3"
        },
        "language_info": {
            "codemirror_mode": {
                "name": "ipython",
                "version": 3
            },
            "file_extension": ".py",
            "mimetype": "text/x-python",
            "name": "python",
            "nbconvert_exporter": "python",
            "pygments_lexer": "ipython3",
            "version": "3.9.13"
        }
    },
    "nbformat": 4,
    "nbformat_minor": 5
}
