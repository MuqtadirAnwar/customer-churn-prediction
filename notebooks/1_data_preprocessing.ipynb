{
 "cells": [
  {
   "cell_type": "markdown",
   "metadata": {},
   "source": [
    "# Customer Churn Prediction: Data Preprocessing\n",
    "\n",
    "This notebook covers the data preprocessing steps for our customer churn prediction project. We'll load the data, clean it, handle missing values, and perform feature engineering."
   ]
  },
  {
   "cell_type": "code",
   "execution_count": 2,
   "metadata": {},
   "outputs": [],
   "source": [
    "# Import necessary libraries\n",
    "import pandas as pd\n",
    "import numpy as np\n",
    "from datetime import datetime\n",
    "import matplotlib.pyplot as plt\n",
    "import seaborn as sns\n",
    "\n",
    "# Set random seed for reproducibility\n",
    "np.random.seed(42)"
   ]
  },
  {
   "cell_type": "markdown",
   "metadata": {},
   "source": [
    "## 1. Load the Dataset"
   ]
  },
  {
   "cell_type": "code",
   "execution_count": 8,
   "metadata": {},
   "outputs": [
    {
     "name": "stdout",
     "output_type": "stream",
     "text": [
      "   CustomerID  Age      Gender     Location SubscriptionStart SubscriptionEnd  \\\n",
      "0        1001   32      Female     New York        2023-01-15      2024-01-14   \n",
      "1        1002   45        Male  Los Angeles        2023-02-01      2023-08-01   \n",
      "2        1003   28  Non-Binary      Chicago        2023-03-10      2024-03-09   \n",
      "3        1004   55      Female      Houston        2023-01-01      2023-12-31   \n",
      "4        1005   39        Male        Miami        2023-04-05      2024-04-04   \n",
      "\n",
      "  Churn  TotalPurchases LastPurchaseDate  AvgOrderValue LoginFrequency  \\\n",
      "0    No              18       2024-09-10          75.50          Daily   \n",
      "1   Yes               5       2023-07-15         120.00         Weekly   \n",
      "2    No              25       2024-09-20          50.25          Daily   \n",
      "3   Yes              12       2023-11-30          85.75        Monthly   \n",
      "4    No              30       2024-09-18          95.00          Daily   \n",
      "\n",
      "   SupportInteractions  \n",
      "0                    2  \n",
      "1                    1  \n",
      "2                    0  \n",
      "3                    4  \n",
      "4                    1  \n",
      "<class 'pandas.core.frame.DataFrame'>\n",
      "RangeIndex: 88 entries, 0 to 87\n",
      "Data columns (total 12 columns):\n",
      " #   Column               Non-Null Count  Dtype  \n",
      "---  ------               --------------  -----  \n",
      " 0   CustomerID           88 non-null     int64  \n",
      " 1   Age                  88 non-null     int64  \n",
      " 2   Gender               88 non-null     object \n",
      " 3   Location             88 non-null     object \n",
      " 4   SubscriptionStart    88 non-null     object \n",
      " 5   SubscriptionEnd      88 non-null     object \n",
      " 6   Churn                88 non-null     object \n",
      " 7   TotalPurchases       88 non-null     int64  \n",
      " 8   LastPurchaseDate     88 non-null     object \n",
      " 9   AvgOrderValue        88 non-null     float64\n",
      " 10  LoginFrequency       88 non-null     object \n",
      " 11  SupportInteractions  88 non-null     int64  \n",
      "dtypes: float64(1), int64(4), object(7)\n",
      "memory usage: 8.4+ KB\n",
      "None\n"
     ]
    }
   ],
   "source": [
    "# Load the dataset\n",
    "df = pd.read_csv('../data/raw/customer-dataset.csv')\n",
    "\n",
    "# Display the first few rows and basic information about the dataset\n",
    "print(df.head())\n",
    "print(df.info())"
   ]
  },
  {
   "cell_type": "markdown",
   "metadata": {},
   "source": [
    "## 2. Data Cleaning"
   ]
  },
  {
   "cell_type": "code",
   "execution_count": 13,
   "metadata": {},
   "outputs": [
    {
     "name": "stdout",
     "output_type": "stream",
     "text": [
      "CustomerID             0\n",
      "Age                    0\n",
      "Gender                 0\n",
      "Location               0\n",
      "SubscriptionStart      0\n",
      "SubscriptionEnd        0\n",
      "Churn                  0\n",
      "TotalPurchases         0\n",
      "LastPurchaseDate       0\n",
      "AvgOrderValue          0\n",
      "LoginFrequency         0\n",
      "SupportInteractions    0\n",
      "dtype: int64\n"
     ]
    }
   ],
   "source": [
    "# Convert date columns to datetime\n",
    "date_columns = ['SubscriptionStart', 'SubscriptionEnd', 'LastPurchaseDate']\n",
    "for col in date_columns:\n",
    "    df[col] = pd.to_datetime(df[col])\n",
    "\n",
    "\n",
    "# Separate numeric and non-numeric columns\n",
    "numeric_columns = df.select_dtypes(include=[np.number]).columns\n",
    "categorical_columns = df.select_dtypes(exclude=[np.number]).columns\n",
    "\n",
    "# Fill missing values in numeric columns with the mean\n",
    "df[numeric_columns] = df[numeric_columns].fillna(df[numeric_columns].mean())\n",
    "\n",
    "# Fill missing values in categorical columns with the mode (most frequent value)\n",
    "df[categorical_columns] = df[categorical_columns].fillna(df[categorical_columns].mode().iloc[0])\n",
    "\n",
    "# Verify that missing values have been handled\n",
    "print(df.isnull().sum())\n"
   ]
  },
  {
   "cell_type": "markdown",
   "metadata": {},
   "source": [
    "## 3. Feature Engineering"
   ]
  },
  {
   "cell_type": "code",
   "execution_count": null,
   "metadata": {},
   "outputs": [],
   "source": [
    "# Calculate customer tenure in days\n",
    "df['Tenure'] = (df['SubscriptionEnd'] - df['SubscriptionStart']).dt.days\n",
    "\n",
    "# Calculate days since last purchase\n",
    "current_date = datetime(2024, 9, 25)  # Using the current date from the conversation context\n",
    "df['DaysSinceLastPurchase'] = (current_date - df['LastPurchaseDate']).dt.days\n",
    "\n",
    "# Convert LoginFrequency to numeric\n",
    "login_frequency_map = {'Daily': 30, 'Bi-weekly': 2, 'Weekly': 4, 'Monthly': 1}\n",
    "df['LoginFrequencyNumeric'] = df['LoginFrequency'].map(login_frequency_map)\n",
    "\n",
    "# Calculate average purchases per month\n",
    "df['AvgPurchasesPerMonth'] = df['TotalPurchases'] / (df['Tenure'] / 30)\n",
    "\n",
    "# Create a loyalty score\n",
    "df['LoyaltyScore'] = (df['Tenure'] / 365 * 0.5 +\n",
    "                      df['AvgPurchasesPerMonth'] * 0.3 +\n",
    "                      df['LoginFrequencyNumeric'] * 0.2)\n",
    "\n",
    "# Display the first few rows of the updated dataset\n",
    "print(df.head())"
   ]
  },
  {
   "cell_type": "markdown",
   "metadata": {},
   "source": [
    "## 4. Encoding Categorical Variables"
   ]
  },
  {
   "cell_type": "code",
   "execution_count": null,
   "metadata": {},
   "outputs": [],
   "source": [
    "# Convert categorical variables to numeric using one-hot encoding\n",
    "df = pd.get_dummies(df, columns=['Gender', 'Location'])\n",
    "\n",
    "# Display the first few rows and updated info of the dataset\n",
    "print(df.head())\n",
    "print(df.info())"
   ]
  },
  {
   "cell_type": "markdown",
   "metadata": {},
   "source": [
    "## 5. Feature Scaling"
   ]
  },
  {
   "cell_type": "code",
   "execution_count": null,
   "metadata": {},
   "outputs": [],
   "source": [
    "from sklearn.preprocessing import StandardScaler\n",
    "\n",
    "# Select numeric columns for scaling\n",
    "numeric_columns = df.select_dtypes(include=['int64', 'float64']).columns\n",
    "\n",
    "# Initialize the StandardScaler\n",
    "scaler = StandardScaler()\n",
    "\n",
    "# Fit and transform the numeric columns\n",
    "df[numeric_columns] = scaler.fit_transform(df[numeric_columns])\n",
    "\n",
    "# Display the first few rows of the scaled dataset\n",
    "print(df.head())"
   ]
  },
  {
   "cell_type": "markdown",
   "metadata": {},
   "source": [
    "## 6. Save Processed Dataset"
   ]
  },
  {
   "cell_type": "code",
   "execution_count": null,
   "metadata": {},
   "outputs": [],
   "source": [
    "# Save the processed dataset\n",
    "df.to_csv('../data/processed/processed_customer_data.csv', index=False)\n",
    "print(\"Processed data saved successfully.\")"
   ]
  },
  {
   "cell_type": "markdown",
   "metadata": {},
   "source": [
    "## 7. Summary of Preprocessing Steps\n",
    "\n",
    "1. Loaded the raw dataset\n",
    "2. Converted date columns to datetime format\n",
    "3. Handled missing values\n",
    "4. Performed feature engineering:\n",
    "   - Calculated customer tenure\n",
    "   - Calculated days since last purchase\n",
    "   - Converted login frequency to numeric\n",
    "   - Calculated average purchases per month\n",
    "   - Created a loyalty score\n",
    "5. Encoded categorical variables using one-hot encoding\n",
    "6. Scaled numeric features using StandardScaler\n",
    "7. Saved the processed dataset\n",
    "\n",
    "The preprocessed data is now ready for exploratory data analysis and model building."
   ]
  }
 ],
 "metadata": {
  "kernelspec": {
   "display_name": "Python 3",
   "language": "python",
   "name": "python3"
  },
  "language_info": {
   "codemirror_mode": {
    "name": "ipython",
    "version": 3
   },
   "file_extension": ".py",
   "mimetype": "text/x-python",
   "name": "python",
   "nbconvert_exporter": "python",
   "pygments_lexer": "ipython3",
   "version": "3.11.0"
  }
 },
 "nbformat": 4,
 "nbformat_minor": 4
}
