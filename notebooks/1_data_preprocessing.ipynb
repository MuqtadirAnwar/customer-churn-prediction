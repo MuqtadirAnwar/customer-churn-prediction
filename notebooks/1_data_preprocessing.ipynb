{
 "cells": [
  {
   "cell_type": "markdown",
   "metadata": {},
   "source": [
    "# Customer Churn Prediction: Data Preprocessing\n",
    "\n",
    "This notebook covers the data preprocessing steps for our customer churn prediction project. We'll load the data, clean it, handle missing values, and perform feature engineering."
   ]
  },
  {
   "cell_type": "code",
   "execution_count": null,
   "metadata": {},
   "outputs": [],
   "source": [
    "# Import necessary libraries\n",
    "import pandas as pd\n",
    "import numpy as np\n",
    "from datetime import datetime\n",
    "import matplotlib.pyplot as plt\n",
    "import seaborn as sns\n",
    "\n",
    "# Set random seed for reproducibility\n",
    "np.random.seed(42)"
   ]
  },
  {
   "cell_type": "markdown",
   "metadata": {},
   "source": [
    "## 1. Load the Dataset"
   ]
  },
  {
   "cell_type": "code",
   "execution_count": null,
   "metadata": {},
   "outputs": [],
   "source": [
    "# Load the dataset\n",
    "df = pd.read_csv('../data/raw/customer_dataset.csv')\n",
    "\n",
    "# Display the first few rows and basic information about the dataset\n",
    "print(df.head())\n",
    "print(df.info())"
   ]
  },
  {
   "cell_type": "markdown",
   "metadata": {},
   "source": [
    "## 2. Data Cleaning"
   ]
  },
  {
   "cell_type": "code",
   "execution_count": null,
   "metadata": {},
   "outputs": [],
   "source": [
    "# Convert date columns to datetime\n",
    "date_columns = ['SubscriptionStart', 'SubscriptionEnd', 'LastPurchaseDate']\n",
    "for col in date_columns:\n",
    "    df[col] = pd.to_datetime(df[col])\n",
    "\n",
    "# Check for missing values\n",
    "print(df.isnull().sum())\n",
    "\n",
    "# Handle missing values (if any)\n",
    "df = df.fillna(df.mean())\n",
    "\n",
    "# Verify that missing values have been handled\n",
    "print(df.isnull().sum())"
   ]
  },
  {
   "cell_type": "markdown",
   "metadata": {},
   "source": [
    "## 3. Feature Engineering"
   ]
  },
  {
   "cell_type": "code",
   "execution_count": null,
   "metadata": {},
   "outputs": [],
   "source": [
    "# Calculate customer tenure in days\n",
    "df['Tenure'] = (df['SubscriptionEnd'] - df['SubscriptionStart']).dt.days\n",
    "\n",
    "# Calculate days since last purchase\n",
    "current_date = datetime(2024, 9, 25)  # Using the current date from the conversation context\n",
    "df['DaysSinceLastPurchase'] = (current_date - df['LastPurchaseDate']).dt.days\n",
    "\n",
    "# Convert LoginFrequency to numeric\n",
    "login_frequency_map = {'Daily': 30, 'Bi-weekly': 2, 'Weekly': 4, 'Monthly': 1}\n",
    "df['LoginFrequencyNumeric'] = df['LoginFrequency'].map(login_frequency_map)\n",
    "\n",
    "# Calculate average purchases per month\n",
    "df['AvgPurchasesPerMonth'] = df['TotalPurchases'] / (df['Tenure'] / 30)\n",
    "\n",
    "# Create a loyalty score\n",
    "df['LoyaltyScore'] = (df['Tenure'] / 365 * 0.5 +\n",
    "                      df['AvgPurchasesPerMonth'] * 0.3 +\n",
    "                      df['LoginFrequencyNumeric'] * 0.2)\n",
    "\n",
    "# Display the first few rows of the updated dataset\n",
    "print(df.head())"
   ]
  },
  {
   "cell_type": "markdown",
   "metadata": {},
   "source": [
    "## 4. Encoding Categorical Variables"
   ]
  },
  {
   "cell_type": "code",
   "execution_count": null,
   "metadata": {},
   "outputs": [],
   "source": [
    "# Convert categorical variables to numeric using one-hot encoding\n",
    "df = pd.get_dummies(df, columns=['Gender', 'Location'])\n",
    "\n",
    "# Display the first few rows and updated info of the dataset\n",
    "print(df.head())\n",
    "print(df.info())"
   ]
  },
  {
   "cell_type": "markdown",
   "metadata": {},
   "source": [
    "## 5. Feature Scaling"
   ]
  },
  {
   "cell_type": "code",
   "execution_count": null,
   "metadata": {},
   "outputs": [],
   "source": [
    "from sklearn.preprocessing import StandardScaler\n",
    "\n",
    "# Select numeric columns for scaling\n",
    "numeric_columns = df.select_dtypes(include=['int64', 'float64']).columns\n",
    "\n",
    "# Initialize the StandardScaler\n",
    "scaler = StandardScaler()\n",
    "\n",
    "# Fit and transform the numeric columns\n",
    "df[numeric_columns] = scaler.fit_transform(df[numeric_columns])\n",
    "\n",
    "# Display the first few rows of the scaled dataset\n",
    "print(df.head())"
   ]
  },
  {
   "cell_type": "markdown",
   "metadata": {},
   "source": [
    "## 6. Save Processed Dataset"
   ]
  },
  {
   "cell_type": "code",
   "execution_count": null,
   "metadata": {},
   "outputs": [],
   "source": [
    "# Save the processed dataset\n",
    "df.to_csv('../data/processed/processed_customer_data.csv', index=False)\n",
    "print(\"Processed data saved successfully.\")"
   ]
  },
  {
   "cell_type": "markdown",
   "metadata": {},
   "source": [
    "## 7. Summary of Preprocessing Steps\n",
    "\n",
    "1. Loaded the raw dataset\n",
    "2. Converted date columns to datetime format\n",
    "3. Handled missing values\n",
    "4. Performed feature engineering:\n",
    "   - Calculated customer tenure\n",
    "   - Calculated days since last purchase\n",
    "   - Converted login frequency to numeric\n",
    "   - Calculated average purchases per month\n",
    "   - Created a loyalty score\n",
    "5. Encoded categorical variables using one-hot encoding\n",
    "6. Scaled numeric features using StandardScaler\n",
    "7. Saved the processed dataset\n",
    "\n",
    "The preprocessed data is now ready for exploratory data analysis and model building."
   ]
  }
 ],
 "metadata": {
  "kernelspec": {
   "display_name": "Python 3",
   "language": "python",
   "name": "python3"
  },
  "language_info": {
   "codemirror_mode": {
    "name": "ipython",
    "version": 3
   },
   "file_extension": ".py",
   "mimetype": "text/x-python",
   "name": "python",
   "nbconvert_exporter": "python",
   "pygments_lexer": "ipython3",
   "version": "3.11.0"
  }
 },
 "nbformat": 4,
 "nbformat_minor": 4
}
